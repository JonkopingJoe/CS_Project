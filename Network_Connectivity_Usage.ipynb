{
 "cells": [
  {
   "cell_type": "code",
   "execution_count": 2,
   "id": "a23b45bf-e902-4ae4-acf1-20e0252cff67",
   "metadata": {
    "tags": []
   },
   "outputs": [
    {
     "name": "stdout",
     "output_type": "stream",
     "text": [
      "True\n",
      "False\n"
     ]
    }
   ],
   "source": [
    "# project 2\n",
    "\n",
    "class Graph:\n",
    "    def __init__(self):\n",
    "        self.adjacency_matrix = {}\n",
    "\n",
    "    def add_vertex(self, vertex):\n",
    "        if vertex not in self.adjacency_matrix:\n",
    "            self.adjacency_matrix[vertex] = []\n",
    "\n",
    "    def add_edge(self, vertex1, vertex2):\n",
    "        if vertex1 in self.adjacency_matrix and vertex2 in self.adjacency_matrix:\n",
    "            self.adjacency_matrix[vertex1].append(vertex2)\n",
    "            self.adjacency_matrix[vertex2].append(vertex1)\n",
    "\n",
    "    def connection_of_node(self, vertex) -> list:\n",
    "        keys_list = sorted(list(self.adjacency_matrix.keys()))\n",
    "        connections_of_vertex = sorted(self.adjacency_matrix[vertex])\n",
    "\n",
    "        connection_row = []\n",
    "\n",
    "        for key in keys_list:\n",
    "            if key in connections_of_vertex:\n",
    "                connection_row.append(1)\n",
    "            else:\n",
    "                connection_row.append(0)\n",
    "\n",
    "        return connection_row\n",
    "\n",
    "    def get_adj_matrix(self) -> list:\n",
    "        adj_matrix = []\n",
    "        vertices_list = sorted(list(self.adjacency_matrix.keys()))\n",
    "\n",
    "        for vertex in vertices_list:\n",
    "            adj_matrix.append(self.connection_of_node(vertex))\n",
    "\n",
    "        return adj_matrix\n",
    "\n",
    "\n",
    "def is_network_connected(graph) -> bool:\n",
    "    visited = set()\n",
    "    stack = [next(iter(graph.adjacency_matrix))]\n",
    "    while stack:\n",
    "        vertex = stack.pop()\n",
    "        if vertex not in visited:\n",
    "            visited.add(vertex)\n",
    "            stack.extend([v for v in graph.adjacency_matrix[vertex] if v not in visited])\n",
    "\n",
    "    return len(visited) == len(graph.adjacency_matrix)\n",
    "\n",
    "#Alternative function \n",
    "def is_network_connected2(graph) -> bool:\n",
    "    num_of_connections = []\n",
    "    for vertex in sorted(list(graph.adjacency_matrix.keys())):\n",
    "        num_of_connections.append(graph.connection_of_node(vertex).count(1))\n",
    "\n",
    "    return num_of_connections.count(1) <= 2 and num_of_connections.count(0) == 0\n",
    "\n",
    "# Create a network graph\n",
    "network = Graph()\n",
    "# Add vertices and connect them\n",
    "network.add_vertex(\"A\")\n",
    "network.add_vertex(\"B\")\n",
    "network.add_edge(\"A\", \"B\")\n",
    "# Verify is all computers are connected\n",
    "print(is_network_connected(network))\n",
    "Output: True\n",
    "# Add more computers to the network and connect them\n",
    "network.add_vertex(\"C\")\n",
    "network.add_vertex(\"C\")\n",
    "network.add_edge(\"C\", \"D\")\n",
    "# Verify is all computers are connected\n",
    "print(is_network_connected(network))\n",
    "Output: False"
   ]
  },
  {
   "cell_type": "code",
   "execution_count": null,
   "id": "724aa43e-0e7c-49f7-adb2-4819ba3c7f4d",
   "metadata": {},
   "outputs": [],
   "source": []
  }
 ],
 "metadata": {
  "kernelspec": {
   "display_name": "Python 3 (ipykernel)",
   "language": "python",
   "name": "python3"
  },
  "language_info": {
   "codemirror_mode": {
    "name": "ipython",
    "version": 3
   },
   "file_extension": ".py",
   "mimetype": "text/x-python",
   "name": "python",
   "nbconvert_exporter": "python",
   "pygments_lexer": "ipython3",
   "version": "3.11.5"
  }
 },
 "nbformat": 4,
 "nbformat_minor": 5
}
